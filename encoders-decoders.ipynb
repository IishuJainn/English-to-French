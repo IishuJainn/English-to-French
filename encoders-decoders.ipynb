{
 "cells": [
  {
   "cell_type": "code",
   "execution_count": 1,
   "id": "d8351c07",
   "metadata": {
    "_cell_guid": "b1076dfc-b9ad-4769-8c92-a6c4dae69d19",
    "_uuid": "8f2839f25d086af736a60e9eeb907d3b93b6e0e5",
    "execution": {
     "iopub.execute_input": "2022-11-22T14:21:01.095423Z",
     "iopub.status.busy": "2022-11-22T14:21:01.094723Z",
     "iopub.status.idle": "2022-11-22T14:21:01.123039Z",
     "shell.execute_reply": "2022-11-22T14:21:01.121374Z"
    },
    "papermill": {
     "duration": 0.041268,
     "end_time": "2022-11-22T14:21:01.126731",
     "exception": false,
     "start_time": "2022-11-22T14:21:01.085463",
     "status": "completed"
    },
    "tags": []
   },
   "outputs": [
    {
     "name": "stdout",
     "output_type": "stream",
     "text": [
      "/kaggle/input/frenchenglish/_about.txt\n",
      "/kaggle/input/frenchenglish/fra.txt\n"
     ]
    }
   ],
   "source": [
    "# This Python 3 environment comes with many helpful analytics libraries installed\n",
    "# It is defined by the kaggle/python Docker image: https://github.com/kaggle/docker-python\n",
    "# For example, here's several helpful packages to load\n",
    "\n",
    "import numpy as np # linear algebra\n",
    "import pandas as pd # data processing, CSV file I/O (e.g. pd.read_csv)\n",
    "\n",
    "# Input data files are available in the read-only \"../input/\" directory\n",
    "# For example, running this (by clicking run or pressing Shift+Enter) will list all files under the input directory\n",
    "\n",
    "import os\n",
    "for dirname, _, filenames in os.walk('/kaggle/input'):\n",
    "    for filename in filenames:\n",
    "        print(os.path.join(dirname, filename))\n",
    "\n",
    "# You can write up to 20GB to the current directory (/kaggle/working/) that gets preserved as output when you create a version using \"Save & Run All\" \n",
    "# You can also write temporary files to /kaggle/temp/, but they won't be saved outside of the current session"
   ]
  },
  {
   "cell_type": "code",
   "execution_count": 2,
   "id": "2a76f2cf",
   "metadata": {
    "execution": {
     "iopub.execute_input": "2022-11-22T14:21:01.140357Z",
     "iopub.status.busy": "2022-11-22T14:21:01.140001Z",
     "iopub.status.idle": "2022-11-22T14:21:07.273216Z",
     "shell.execute_reply": "2022-11-22T14:21:07.272124Z"
    },
    "papermill": {
     "duration": 6.142943,
     "end_time": "2022-11-22T14:21:07.276169",
     "exception": false,
     "start_time": "2022-11-22T14:21:01.133226",
     "status": "completed"
    },
    "tags": []
   },
   "outputs": [],
   "source": [
    "from tensorflow.keras.models import Model\n",
    "from tensorflow.keras.layers import Input,Dense,LSTM\n",
    "batch_size = 64\n",
    "epochs = 100\n",
    "latent_dim = 256\n",
    "num_samples = 10000\n",
    "data_path = '../input/frenchenglish/fra.txt'"
   ]
  },
  {
   "cell_type": "code",
   "execution_count": 3,
   "id": "862e49fd",
   "metadata": {
    "execution": {
     "iopub.execute_input": "2022-11-22T14:21:07.286106Z",
     "iopub.status.busy": "2022-11-22T14:21:07.285538Z",
     "iopub.status.idle": "2022-11-22T14:21:07.651713Z",
     "shell.execute_reply": "2022-11-22T14:21:07.650613Z"
    },
    "papermill": {
     "duration": 0.374072,
     "end_time": "2022-11-22T14:21:07.654524",
     "exception": false,
     "start_time": "2022-11-22T14:21:07.280452",
     "status": "completed"
    },
    "tags": []
   },
   "outputs": [],
   "source": [
    "input_texts = []\n",
    "target_texts = []\n",
    "input_characters = set()\n",
    "target_characters = set()\n",
    "with open(data_path,'r',encoding='utf-8') as f:\n",
    "    lines = f.read().split('\\n')\n",
    "for line in lines[:min(num_samples,len(lines)-1)]:\n",
    "    input_text, target_text,_= line.split('\\t')\n",
    "    target_text = '\\t'+target_text+'\\n'\n",
    "    input_texts.append(input_text)\n",
    "    target_texts.append(target_text)\n",
    "    for char in input_text:\n",
    "        if char not in input_characters:\n",
    "            input_characters.add(char)\n",
    "    for char in target_text:\n",
    "        if char not in target_characters:\n",
    "            target_characters.add(char)"
   ]
  },
  {
   "cell_type": "code",
   "execution_count": 4,
   "id": "26042d5f",
   "metadata": {
    "execution": {
     "iopub.execute_input": "2022-11-22T14:21:07.664674Z",
     "iopub.status.busy": "2022-11-22T14:21:07.663964Z",
     "iopub.status.idle": "2022-11-22T14:21:07.673670Z",
     "shell.execute_reply": "2022-11-22T14:21:07.672678Z"
    },
    "papermill": {
     "duration": 0.017232,
     "end_time": "2022-11-22T14:21:07.676046",
     "exception": false,
     "start_time": "2022-11-22T14:21:07.658814",
     "status": "completed"
    },
    "tags": []
   },
   "outputs": [],
   "source": [
    "input_characters = sorted(list(input_characters))\n",
    "target_characters = sorted(list(target_characters))\n",
    "num_encoder_tokens = len(input_characters)\n",
    "num_decoder_tokens = len(target_characters)\n",
    "max_encoder_seq_len = max([len(txt) for txt in input_texts])\n",
    "max_decoder_seq_len = max([len(txt) for txt in target_texts])"
   ]
  },
  {
   "cell_type": "code",
   "execution_count": 5,
   "id": "fd7e3485",
   "metadata": {
    "execution": {
     "iopub.execute_input": "2022-11-22T14:21:07.685409Z",
     "iopub.status.busy": "2022-11-22T14:21:07.684962Z",
     "iopub.status.idle": "2022-11-22T14:21:07.691593Z",
     "shell.execute_reply": "2022-11-22T14:21:07.690318Z"
    },
    "papermill": {
     "duration": 0.015476,
     "end_time": "2022-11-22T14:21:07.695462",
     "exception": false,
     "start_time": "2022-11-22T14:21:07.679986",
     "status": "completed"
    },
    "tags": []
   },
   "outputs": [
    {
     "name": "stdout",
     "output_type": "stream",
     "text": [
      "num of samples: 10000\n",
      "num of unique input tokens: 71\n",
      "num of unique output tokens: 92\n",
      "max seq len for inputs: 16\n",
      "max seq len for outputs: 59\n"
     ]
    }
   ],
   "source": [
    "print('num of samples:', len(input_texts))\n",
    "print('num of unique input tokens:', num_encoder_tokens)\n",
    "print('num of unique output tokens:', num_decoder_tokens)\n",
    "print('max seq len for inputs:', max_encoder_seq_len)\n",
    "print('max seq len for outputs:', max_decoder_seq_len)\n"
   ]
  },
  {
   "cell_type": "code",
   "execution_count": 6,
   "id": "31401c26",
   "metadata": {
    "execution": {
     "iopub.execute_input": "2022-11-22T14:21:07.704537Z",
     "iopub.status.busy": "2022-11-22T14:21:07.704237Z",
     "iopub.status.idle": "2022-11-22T14:21:07.709578Z",
     "shell.execute_reply": "2022-11-22T14:21:07.708491Z"
    },
    "papermill": {
     "duration": 0.012556,
     "end_time": "2022-11-22T14:21:07.711924",
     "exception": false,
     "start_time": "2022-11-22T14:21:07.699368",
     "status": "completed"
    },
    "tags": []
   },
   "outputs": [],
   "source": [
    "input_token_index = dict(\n",
    "    [(char,i) for i, char in enumerate(input_characters)]\n",
    ")\n",
    "target_token_index = dict(\n",
    "    [(char,i) for i, char in enumerate(target_characters)]\n",
    ")"
   ]
  },
  {
   "cell_type": "code",
   "execution_count": 7,
   "id": "da41e791",
   "metadata": {
    "execution": {
     "iopub.execute_input": "2022-11-22T14:21:07.721112Z",
     "iopub.status.busy": "2022-11-22T14:21:07.720820Z",
     "iopub.status.idle": "2022-11-22T14:21:07.733008Z",
     "shell.execute_reply": "2022-11-22T14:21:07.732007Z"
    },
    "papermill": {
     "duration": 0.019206,
     "end_time": "2022-11-22T14:21:07.735027",
     "exception": false,
     "start_time": "2022-11-22T14:21:07.715821",
     "status": "completed"
    },
    "tags": []
   },
   "outputs": [
    {
     "data": {
      "text/plain": [
       "{'\\t': 0,\n",
       " '\\n': 1,\n",
       " ' ': 2,\n",
       " '!': 3,\n",
       " '%': 4,\n",
       " '&': 5,\n",
       " \"'\": 6,\n",
       " '(': 7,\n",
       " ')': 8,\n",
       " ',': 9,\n",
       " '-': 10,\n",
       " '.': 11,\n",
       " '0': 12,\n",
       " '1': 13,\n",
       " '2': 14,\n",
       " '3': 15,\n",
       " '5': 16,\n",
       " '8': 17,\n",
       " '9': 18,\n",
       " ':': 19,\n",
       " '?': 20,\n",
       " 'A': 21,\n",
       " 'B': 22,\n",
       " 'C': 23,\n",
       " 'D': 24,\n",
       " 'E': 25,\n",
       " 'F': 26,\n",
       " 'G': 27,\n",
       " 'H': 28,\n",
       " 'I': 29,\n",
       " 'J': 30,\n",
       " 'K': 31,\n",
       " 'L': 32,\n",
       " 'M': 33,\n",
       " 'N': 34,\n",
       " 'O': 35,\n",
       " 'P': 36,\n",
       " 'Q': 37,\n",
       " 'R': 38,\n",
       " 'S': 39,\n",
       " 'T': 40,\n",
       " 'U': 41,\n",
       " 'V': 42,\n",
       " 'Y': 43,\n",
       " 'a': 44,\n",
       " 'b': 45,\n",
       " 'c': 46,\n",
       " 'd': 47,\n",
       " 'e': 48,\n",
       " 'f': 49,\n",
       " 'g': 50,\n",
       " 'h': 51,\n",
       " 'i': 52,\n",
       " 'j': 53,\n",
       " 'k': 54,\n",
       " 'l': 55,\n",
       " 'm': 56,\n",
       " 'n': 57,\n",
       " 'o': 58,\n",
       " 'p': 59,\n",
       " 'q': 60,\n",
       " 'r': 61,\n",
       " 's': 62,\n",
       " 't': 63,\n",
       " 'u': 64,\n",
       " 'v': 65,\n",
       " 'x': 66,\n",
       " 'y': 67,\n",
       " 'z': 68,\n",
       " '\\xa0': 69,\n",
       " '«': 70,\n",
       " '»': 71,\n",
       " 'À': 72,\n",
       " 'Ç': 73,\n",
       " 'É': 74,\n",
       " 'Ê': 75,\n",
       " 'à': 76,\n",
       " 'â': 77,\n",
       " 'ç': 78,\n",
       " 'è': 79,\n",
       " 'é': 80,\n",
       " 'ê': 81,\n",
       " 'ë': 82,\n",
       " 'î': 83,\n",
       " 'ï': 84,\n",
       " 'ô': 85,\n",
       " 'ù': 86,\n",
       " 'û': 87,\n",
       " 'œ': 88,\n",
       " '\\u2009': 89,\n",
       " '’': 90,\n",
       " '\\u202f': 91}"
      ]
     },
     "execution_count": 7,
     "metadata": {},
     "output_type": "execute_result"
    }
   ],
   "source": [
    " target_token_index"
   ]
  },
  {
   "cell_type": "code",
   "execution_count": 8,
   "id": "bbf650cc",
   "metadata": {
    "execution": {
     "iopub.execute_input": "2022-11-22T14:21:07.744795Z",
     "iopub.status.busy": "2022-11-22T14:21:07.743910Z",
     "iopub.status.idle": "2022-11-22T14:21:07.750093Z",
     "shell.execute_reply": "2022-11-22T14:21:07.749192Z"
    },
    "papermill": {
     "duration": 0.013189,
     "end_time": "2022-11-22T14:21:07.752342",
     "exception": false,
     "start_time": "2022-11-22T14:21:07.739153",
     "status": "completed"
    },
    "tags": []
   },
   "outputs": [],
   "source": [
    " encoder_input_data = np.zeros(\n",
    "    (len(input_texts),max_encoder_seq_len, num_encoder_tokens),\n",
    "    dtype = 'float32')\n",
    "decoder_input_data = np.zeros(\n",
    "    (len(input_texts), max_decoder_seq_len, num_decoder_tokens),    \n",
    "    dtype='float32')\n",
    "decoder_target_data = np.zeros(\n",
    "    (len(input_texts), max_decoder_seq_len, num_decoder_tokens),\n",
    "    dtype = 'float32') "
   ]
  },
  {
   "cell_type": "code",
   "execution_count": 9,
   "id": "edd81ad7",
   "metadata": {
    "execution": {
     "iopub.execute_input": "2022-11-22T14:21:07.762427Z",
     "iopub.status.busy": "2022-11-22T14:21:07.761703Z",
     "iopub.status.idle": "2022-11-22T14:21:08.283608Z",
     "shell.execute_reply": "2022-11-22T14:21:08.282522Z"
    },
    "papermill": {
     "duration": 0.530017,
     "end_time": "2022-11-22T14:21:08.286304",
     "exception": false,
     "start_time": "2022-11-22T14:21:07.756287",
     "status": "completed"
    },
    "tags": []
   },
   "outputs": [],
   "source": [
    "for i, (input_text, target_text) in enumerate(zip(input_texts, target_texts)):\n",
    "    for t, char in enumerate(input_text):\n",
    "        encoder_input_data[i, t, input_token_index[char]] = 1\n",
    "    encoder_input_data[i, t+1:, input_token_index[' ']] = 1\n",
    "    for t, char in enumerate(target_text):\n",
    "        decoder_input_data[i, t, target_token_index[char]]=1\n",
    "        if t>0:\n",
    "            decoder_target_data[i, t-1, target_token_index[char]]=1\n",
    "    decoder_input_data[i,t+1:, target_token_index[' ']] = 1\n",
    "    decoder_target_data[i, t:, target_token_index[' ']]=1"
   ]
  },
  {
   "cell_type": "code",
   "execution_count": 10,
   "id": "dce0a581",
   "metadata": {
    "execution": {
     "iopub.execute_input": "2022-11-22T14:21:08.298265Z",
     "iopub.status.busy": "2022-11-22T14:21:08.296581Z",
     "iopub.status.idle": "2022-11-22T14:21:12.731201Z",
     "shell.execute_reply": "2022-11-22T14:21:12.730107Z"
    },
    "papermill": {
     "duration": 4.442908,
     "end_time": "2022-11-22T14:21:12.733920",
     "exception": false,
     "start_time": "2022-11-22T14:21:08.291012",
     "status": "completed"
    },
    "tags": []
   },
   "outputs": [
    {
     "name": "stderr",
     "output_type": "stream",
     "text": [
      "2022-11-22 14:21:08.464563: I tensorflow/stream_executor/cuda/cuda_gpu_executor.cc:937] successful NUMA node read from SysFS had negative value (-1), but there must be at least one NUMA node, so returning NUMA node zero\n",
      "2022-11-22 14:21:08.465543: I tensorflow/stream_executor/cuda/cuda_gpu_executor.cc:937] successful NUMA node read from SysFS had negative value (-1), but there must be at least one NUMA node, so returning NUMA node zero\n",
      "2022-11-22 14:21:08.600972: I tensorflow/stream_executor/cuda/cuda_gpu_executor.cc:937] successful NUMA node read from SysFS had negative value (-1), but there must be at least one NUMA node, so returning NUMA node zero\n",
      "2022-11-22 14:21:08.601922: I tensorflow/stream_executor/cuda/cuda_gpu_executor.cc:937] successful NUMA node read from SysFS had negative value (-1), but there must be at least one NUMA node, so returning NUMA node zero\n",
      "2022-11-22 14:21:08.602813: I tensorflow/stream_executor/cuda/cuda_gpu_executor.cc:937] successful NUMA node read from SysFS had negative value (-1), but there must be at least one NUMA node, so returning NUMA node zero\n",
      "2022-11-22 14:21:08.603698: I tensorflow/stream_executor/cuda/cuda_gpu_executor.cc:937] successful NUMA node read from SysFS had negative value (-1), but there must be at least one NUMA node, so returning NUMA node zero\n",
      "2022-11-22 14:21:08.606153: I tensorflow/core/platform/cpu_feature_guard.cc:142] This TensorFlow binary is optimized with oneAPI Deep Neural Network Library (oneDNN) to use the following CPU instructions in performance-critical operations:  AVX2 AVX512F FMA\n",
      "To enable them in other operations, rebuild TensorFlow with the appropriate compiler flags.\n",
      "2022-11-22 14:21:08.879806: I tensorflow/stream_executor/cuda/cuda_gpu_executor.cc:937] successful NUMA node read from SysFS had negative value (-1), but there must be at least one NUMA node, so returning NUMA node zero\n",
      "2022-11-22 14:21:08.880733: I tensorflow/stream_executor/cuda/cuda_gpu_executor.cc:937] successful NUMA node read from SysFS had negative value (-1), but there must be at least one NUMA node, so returning NUMA node zero\n",
      "2022-11-22 14:21:08.881558: I tensorflow/stream_executor/cuda/cuda_gpu_executor.cc:937] successful NUMA node read from SysFS had negative value (-1), but there must be at least one NUMA node, so returning NUMA node zero\n",
      "2022-11-22 14:21:08.882376: I tensorflow/stream_executor/cuda/cuda_gpu_executor.cc:937] successful NUMA node read from SysFS had negative value (-1), but there must be at least one NUMA node, so returning NUMA node zero\n",
      "2022-11-22 14:21:08.883164: I tensorflow/stream_executor/cuda/cuda_gpu_executor.cc:937] successful NUMA node read from SysFS had negative value (-1), but there must be at least one NUMA node, so returning NUMA node zero\n",
      "2022-11-22 14:21:08.883877: I tensorflow/stream_executor/cuda/cuda_gpu_executor.cc:937] successful NUMA node read from SysFS had negative value (-1), but there must be at least one NUMA node, so returning NUMA node zero\n",
      "2022-11-22 14:21:11.709217: I tensorflow/stream_executor/cuda/cuda_gpu_executor.cc:937] successful NUMA node read from SysFS had negative value (-1), but there must be at least one NUMA node, so returning NUMA node zero\n",
      "2022-11-22 14:21:11.710105: I tensorflow/stream_executor/cuda/cuda_gpu_executor.cc:937] successful NUMA node read from SysFS had negative value (-1), but there must be at least one NUMA node, so returning NUMA node zero\n",
      "2022-11-22 14:21:11.710943: I tensorflow/stream_executor/cuda/cuda_gpu_executor.cc:937] successful NUMA node read from SysFS had negative value (-1), but there must be at least one NUMA node, so returning NUMA node zero\n",
      "2022-11-22 14:21:11.711744: I tensorflow/stream_executor/cuda/cuda_gpu_executor.cc:937] successful NUMA node read from SysFS had negative value (-1), but there must be at least one NUMA node, so returning NUMA node zero\n",
      "2022-11-22 14:21:11.712515: I tensorflow/stream_executor/cuda/cuda_gpu_executor.cc:937] successful NUMA node read from SysFS had negative value (-1), but there must be at least one NUMA node, so returning NUMA node zero\n",
      "2022-11-22 14:21:11.713258: I tensorflow/core/common_runtime/gpu/gpu_device.cc:1510] Created device /job:localhost/replica:0/task:0/device:GPU:0 with 13789 MB memory:  -> device: 0, name: Tesla T4, pci bus id: 0000:00:04.0, compute capability: 7.5\n",
      "2022-11-22 14:21:11.716687: I tensorflow/stream_executor/cuda/cuda_gpu_executor.cc:937] successful NUMA node read from SysFS had negative value (-1), but there must be at least one NUMA node, so returning NUMA node zero\n",
      "2022-11-22 14:21:11.717430: I tensorflow/core/common_runtime/gpu/gpu_device.cc:1510] Created device /job:localhost/replica:0/task:0/device:GPU:1 with 13789 MB memory:  -> device: 1, name: Tesla T4, pci bus id: 0000:00:05.0, compute capability: 7.5\n"
     ]
    }
   ],
   "source": [
    "encoder_inputs = Input(shape=(None, num_encoder_tokens))\n",
    "encoder = LSTM(latent_dim, return_state=True)\n",
    "encoder_outputs, state_h, state_c = encoder(encoder_inputs)\n",
    "encoder_states = [state_h, state_c]"
   ]
  },
  {
   "cell_type": "code",
   "execution_count": 11,
   "id": "1c1ba713",
   "metadata": {
    "execution": {
     "iopub.execute_input": "2022-11-22T14:21:12.744806Z",
     "iopub.status.busy": "2022-11-22T14:21:12.743936Z",
     "iopub.status.idle": "2022-11-22T14:21:12.984656Z",
     "shell.execute_reply": "2022-11-22T14:21:12.983586Z"
    },
    "papermill": {
     "duration": 0.248594,
     "end_time": "2022-11-22T14:21:12.987146",
     "exception": false,
     "start_time": "2022-11-22T14:21:12.738552",
     "status": "completed"
    },
    "tags": []
   },
   "outputs": [],
   "source": [
    "decoder_inputs = Input(shape=(None, num_decoder_tokens))\n",
    "decoder_lstm = LSTM(latent_dim, return_sequences=True, return_state=True)\n",
    "decoder_outputs,_,_ = decoder_lstm(decoder_inputs, initial_state = encoder_states)\n",
    "decoder_dense = Dense(num_decoder_tokens, activation = 'softmax')\n",
    "decoder_outputs = decoder_dense(decoder_outputs)"
   ]
  },
  {
   "cell_type": "code",
   "execution_count": 12,
   "id": "4d07f180",
   "metadata": {
    "execution": {
     "iopub.execute_input": "2022-11-22T14:21:12.997235Z",
     "iopub.status.busy": "2022-11-22T14:21:12.996784Z",
     "iopub.status.idle": "2022-11-22T14:21:13.005785Z",
     "shell.execute_reply": "2022-11-22T14:21:13.004880Z"
    },
    "papermill": {
     "duration": 0.016564,
     "end_time": "2022-11-22T14:21:13.007962",
     "exception": false,
     "start_time": "2022-11-22T14:21:12.991398",
     "status": "completed"
    },
    "tags": []
   },
   "outputs": [],
   "source": [
    "model = Model([encoder_inputs, decoder_inputs], decoder_outputs)"
   ]
  },
  {
   "cell_type": "code",
   "execution_count": 13,
   "id": "0b965083",
   "metadata": {
    "execution": {
     "iopub.execute_input": "2022-11-22T14:21:13.017068Z",
     "iopub.status.busy": "2022-11-22T14:21:13.016795Z",
     "iopub.status.idle": "2022-11-22T14:21:13.029539Z",
     "shell.execute_reply": "2022-11-22T14:21:13.028673Z"
    },
    "papermill": {
     "duration": 0.019618,
     "end_time": "2022-11-22T14:21:13.031514",
     "exception": false,
     "start_time": "2022-11-22T14:21:13.011896",
     "status": "completed"
    },
    "tags": []
   },
   "outputs": [],
   "source": [
    "model.compile(optimizer='rmsprop', loss='categorical_crossentropy', metrics=['accuracy'])"
   ]
  },
  {
   "cell_type": "code",
   "execution_count": 14,
   "id": "e07157b3",
   "metadata": {
    "execution": {
     "iopub.execute_input": "2022-11-22T14:21:13.040733Z",
     "iopub.status.busy": "2022-11-22T14:21:13.040476Z",
     "iopub.status.idle": "2022-11-22T14:23:59.858758Z",
     "shell.execute_reply": "2022-11-22T14:23:59.857816Z"
    },
    "papermill": {
     "duration": 166.825155,
     "end_time": "2022-11-22T14:23:59.860809",
     "exception": false,
     "start_time": "2022-11-22T14:21:13.035654",
     "status": "completed"
    },
    "tags": []
   },
   "outputs": [
    {
     "name": "stderr",
     "output_type": "stream",
     "text": [
      "2022-11-22 14:21:13.982732: I tensorflow/compiler/mlir/mlir_graph_optimization_pass.cc:185] None of the MLIR Optimization Passes are enabled (registered 2)\n"
     ]
    },
    {
     "name": "stdout",
     "output_type": "stream",
     "text": [
      "Epoch 1/100\n"
     ]
    },
    {
     "name": "stderr",
     "output_type": "stream",
     "text": [
      "2022-11-22 14:21:17.650902: I tensorflow/stream_executor/cuda/cuda_dnn.cc:369] Loaded cuDNN version 8005\n"
     ]
    },
    {
     "name": "stdout",
     "output_type": "stream",
     "text": [
      "125/125 [==============================] - 8s 19ms/step - loss: 1.1878 - accuracy: 0.7246 - val_loss: 1.0762 - val_accuracy: 0.7181\n",
      "Epoch 2/100\n",
      "125/125 [==============================] - 2s 14ms/step - loss: 0.8651 - accuracy: 0.7671 - val_loss: 0.8440 - val_accuracy: 0.7714\n",
      "Epoch 3/100\n",
      "125/125 [==============================] - 1s 12ms/step - loss: 0.6804 - accuracy: 0.8079 - val_loss: 0.7160 - val_accuracy: 0.7908\n",
      "Epoch 4/100\n",
      "125/125 [==============================] - 1s 12ms/step - loss: 0.5927 - accuracy: 0.8275 - val_loss: 0.6529 - val_accuracy: 0.8074\n",
      "Epoch 5/100\n",
      "125/125 [==============================] - 1s 12ms/step - loss: 0.5448 - accuracy: 0.8406 - val_loss: 0.6140 - val_accuracy: 0.8189\n",
      "Epoch 6/100\n",
      "125/125 [==============================] - 2s 12ms/step - loss: 0.5091 - accuracy: 0.8505 - val_loss: 0.5790 - val_accuracy: 0.8292\n",
      "Epoch 7/100\n",
      "125/125 [==============================] - 1s 12ms/step - loss: 0.4798 - accuracy: 0.8586 - val_loss: 0.5540 - val_accuracy: 0.8362\n",
      "Epoch 8/100\n",
      "125/125 [==============================] - 1s 12ms/step - loss: 0.4562 - accuracy: 0.8645 - val_loss: 0.5355 - val_accuracy: 0.8411\n",
      "Epoch 9/100\n",
      "125/125 [==============================] - 2s 14ms/step - loss: 0.4353 - accuracy: 0.8704 - val_loss: 0.5161 - val_accuracy: 0.8475\n",
      "Epoch 10/100\n",
      "125/125 [==============================] - 2s 12ms/step - loss: 0.4156 - accuracy: 0.8759 - val_loss: 0.5040 - val_accuracy: 0.8508\n",
      "Epoch 11/100\n",
      "125/125 [==============================] - 1s 12ms/step - loss: 0.3986 - accuracy: 0.8804 - val_loss: 0.4914 - val_accuracy: 0.8535\n",
      "Epoch 12/100\n",
      "125/125 [==============================] - 2s 12ms/step - loss: 0.3830 - accuracy: 0.8849 - val_loss: 0.4798 - val_accuracy: 0.8579\n",
      "Epoch 13/100\n",
      "125/125 [==============================] - 2s 12ms/step - loss: 0.3679 - accuracy: 0.8894 - val_loss: 0.4722 - val_accuracy: 0.8602\n",
      "Epoch 14/100\n",
      "125/125 [==============================] - 2s 12ms/step - loss: 0.3541 - accuracy: 0.8933 - val_loss: 0.4623 - val_accuracy: 0.8630\n",
      "Epoch 15/100\n",
      "125/125 [==============================] - 2s 12ms/step - loss: 0.3410 - accuracy: 0.8971 - val_loss: 0.4562 - val_accuracy: 0.8651\n",
      "Epoch 16/100\n",
      "125/125 [==============================] - 2s 17ms/step - loss: 0.3286 - accuracy: 0.9009 - val_loss: 0.4517 - val_accuracy: 0.8667\n",
      "Epoch 17/100\n",
      "125/125 [==============================] - 2s 14ms/step - loss: 0.3171 - accuracy: 0.9042 - val_loss: 0.4443 - val_accuracy: 0.8696\n",
      "Epoch 18/100\n",
      "125/125 [==============================] - 2s 12ms/step - loss: 0.3059 - accuracy: 0.9073 - val_loss: 0.4447 - val_accuracy: 0.8693\n",
      "Epoch 19/100\n",
      "125/125 [==============================] - 1s 12ms/step - loss: 0.2955 - accuracy: 0.9107 - val_loss: 0.4423 - val_accuracy: 0.8703\n",
      "Epoch 20/100\n",
      "125/125 [==============================] - 1s 12ms/step - loss: 0.2852 - accuracy: 0.9135 - val_loss: 0.4374 - val_accuracy: 0.8720\n",
      "Epoch 21/100\n",
      "125/125 [==============================] - 1s 12ms/step - loss: 0.2757 - accuracy: 0.9166 - val_loss: 0.4417 - val_accuracy: 0.8712\n",
      "Epoch 22/100\n",
      "125/125 [==============================] - 2s 12ms/step - loss: 0.2666 - accuracy: 0.9191 - val_loss: 0.4401 - val_accuracy: 0.8730\n",
      "Epoch 23/100\n",
      "125/125 [==============================] - 2s 14ms/step - loss: 0.2581 - accuracy: 0.9216 - val_loss: 0.4366 - val_accuracy: 0.8744\n",
      "Epoch 24/100\n",
      "125/125 [==============================] - 1s 12ms/step - loss: 0.2493 - accuracy: 0.9246 - val_loss: 0.4400 - val_accuracy: 0.8740\n",
      "Epoch 25/100\n",
      "125/125 [==============================] - 1s 12ms/step - loss: 0.2415 - accuracy: 0.9266 - val_loss: 0.4386 - val_accuracy: 0.8747\n",
      "Epoch 26/100\n",
      "125/125 [==============================] - 1s 12ms/step - loss: 0.2340 - accuracy: 0.9288 - val_loss: 0.4401 - val_accuracy: 0.8756\n",
      "Epoch 27/100\n",
      "125/125 [==============================] - 2s 12ms/step - loss: 0.2265 - accuracy: 0.9313 - val_loss: 0.4452 - val_accuracy: 0.8753\n",
      "Epoch 28/100\n",
      "125/125 [==============================] - 2s 12ms/step - loss: 0.2193 - accuracy: 0.9328 - val_loss: 0.4443 - val_accuracy: 0.8751\n",
      "Epoch 29/100\n",
      "125/125 [==============================] - 2s 12ms/step - loss: 0.2126 - accuracy: 0.9352 - val_loss: 0.4581 - val_accuracy: 0.8726\n",
      "Epoch 30/100\n",
      "125/125 [==============================] - 2s 14ms/step - loss: 0.2062 - accuracy: 0.9369 - val_loss: 0.4503 - val_accuracy: 0.8758\n",
      "Epoch 31/100\n",
      "125/125 [==============================] - 2s 12ms/step - loss: 0.2000 - accuracy: 0.9390 - val_loss: 0.4510 - val_accuracy: 0.8765\n",
      "Epoch 32/100\n",
      "125/125 [==============================] - 2s 12ms/step - loss: 0.1936 - accuracy: 0.9408 - val_loss: 0.4540 - val_accuracy: 0.8769\n",
      "Epoch 33/100\n",
      "125/125 [==============================] - 2s 12ms/step - loss: 0.1875 - accuracy: 0.9426 - val_loss: 0.4565 - val_accuracy: 0.8766\n",
      "Epoch 34/100\n",
      "125/125 [==============================] - 2s 13ms/step - loss: 0.1817 - accuracy: 0.9443 - val_loss: 0.4636 - val_accuracy: 0.8756\n",
      "Epoch 35/100\n",
      "125/125 [==============================] - 2s 12ms/step - loss: 0.1763 - accuracy: 0.9458 - val_loss: 0.4662 - val_accuracy: 0.8765\n",
      "Epoch 36/100\n",
      "125/125 [==============================] - 2s 13ms/step - loss: 0.1712 - accuracy: 0.9474 - val_loss: 0.4675 - val_accuracy: 0.8769\n",
      "Epoch 37/100\n",
      "125/125 [==============================] - 2s 19ms/step - loss: 0.1662 - accuracy: 0.9490 - val_loss: 0.4728 - val_accuracy: 0.8759\n",
      "Epoch 38/100\n",
      "125/125 [==============================] - 2s 13ms/step - loss: 0.1614 - accuracy: 0.9505 - val_loss: 0.4800 - val_accuracy: 0.8761\n",
      "Epoch 39/100\n",
      "125/125 [==============================] - 2s 13ms/step - loss: 0.1569 - accuracy: 0.9519 - val_loss: 0.4837 - val_accuracy: 0.8763\n",
      "Epoch 40/100\n",
      "125/125 [==============================] - 2s 13ms/step - loss: 0.1520 - accuracy: 0.9532 - val_loss: 0.4855 - val_accuracy: 0.8766\n",
      "Epoch 41/100\n",
      "125/125 [==============================] - 2s 13ms/step - loss: 0.1478 - accuracy: 0.9546 - val_loss: 0.4943 - val_accuracy: 0.8765\n",
      "Epoch 42/100\n",
      "125/125 [==============================] - 2s 12ms/step - loss: 0.1440 - accuracy: 0.9559 - val_loss: 0.4956 - val_accuracy: 0.8765\n",
      "Epoch 43/100\n",
      "125/125 [==============================] - 2s 13ms/step - loss: 0.1398 - accuracy: 0.9573 - val_loss: 0.4986 - val_accuracy: 0.8759\n",
      "Epoch 44/100\n",
      "125/125 [==============================] - 2s 14ms/step - loss: 0.1362 - accuracy: 0.9578 - val_loss: 0.5062 - val_accuracy: 0.8760\n",
      "Epoch 45/100\n",
      "125/125 [==============================] - 2s 12ms/step - loss: 0.1329 - accuracy: 0.9590 - val_loss: 0.5077 - val_accuracy: 0.8757\n",
      "Epoch 46/100\n",
      "125/125 [==============================] - 2s 12ms/step - loss: 0.1291 - accuracy: 0.9604 - val_loss: 0.5147 - val_accuracy: 0.8757\n",
      "Epoch 47/100\n",
      "125/125 [==============================] - 2s 13ms/step - loss: 0.1257 - accuracy: 0.9612 - val_loss: 0.5160 - val_accuracy: 0.8764\n",
      "Epoch 48/100\n",
      "125/125 [==============================] - 2s 12ms/step - loss: 0.1222 - accuracy: 0.9619 - val_loss: 0.5224 - val_accuracy: 0.8749\n",
      "Epoch 49/100\n",
      "125/125 [==============================] - 2s 12ms/step - loss: 0.1193 - accuracy: 0.9631 - val_loss: 0.5249 - val_accuracy: 0.8759\n",
      "Epoch 50/100\n",
      "125/125 [==============================] - 2s 14ms/step - loss: 0.1160 - accuracy: 0.9640 - val_loss: 0.5312 - val_accuracy: 0.8753\n",
      "Epoch 51/100\n",
      "125/125 [==============================] - 2s 13ms/step - loss: 0.1130 - accuracy: 0.9650 - val_loss: 0.5368 - val_accuracy: 0.8763\n",
      "Epoch 52/100\n",
      "125/125 [==============================] - 2s 12ms/step - loss: 0.1102 - accuracy: 0.9659 - val_loss: 0.5449 - val_accuracy: 0.8755\n",
      "Epoch 53/100\n",
      "125/125 [==============================] - 2s 13ms/step - loss: 0.1073 - accuracy: 0.9667 - val_loss: 0.5533 - val_accuracy: 0.8746\n",
      "Epoch 54/100\n",
      "125/125 [==============================] - 2s 12ms/step - loss: 0.1049 - accuracy: 0.9673 - val_loss: 0.5457 - val_accuracy: 0.8750\n",
      "Epoch 55/100\n",
      "125/125 [==============================] - 2s 13ms/step - loss: 0.1020 - accuracy: 0.9680 - val_loss: 0.5562 - val_accuracy: 0.8748\n",
      "Epoch 56/100\n",
      "125/125 [==============================] - 2s 16ms/step - loss: 0.0999 - accuracy: 0.9687 - val_loss: 0.5653 - val_accuracy: 0.8751\n",
      "Epoch 57/100\n",
      "125/125 [==============================] - 2s 15ms/step - loss: 0.0973 - accuracy: 0.9695 - val_loss: 0.5649 - val_accuracy: 0.8743\n",
      "Epoch 58/100\n",
      "125/125 [==============================] - 2s 12ms/step - loss: 0.0949 - accuracy: 0.9702 - val_loss: 0.5673 - val_accuracy: 0.8747\n",
      "Epoch 59/100\n",
      "125/125 [==============================] - 2s 13ms/step - loss: 0.0926 - accuracy: 0.9707 - val_loss: 0.5778 - val_accuracy: 0.8745\n",
      "Epoch 60/100\n",
      "125/125 [==============================] - 1s 12ms/step - loss: 0.0908 - accuracy: 0.9714 - val_loss: 0.5793 - val_accuracy: 0.8743\n",
      "Epoch 61/100\n",
      "125/125 [==============================] - 2s 12ms/step - loss: 0.0884 - accuracy: 0.9721 - val_loss: 0.5855 - val_accuracy: 0.8739\n",
      "Epoch 62/100\n",
      "125/125 [==============================] - 2s 12ms/step - loss: 0.0862 - accuracy: 0.9726 - val_loss: 0.5893 - val_accuracy: 0.8740\n",
      "Epoch 63/100\n",
      "125/125 [==============================] - 2s 12ms/step - loss: 0.0843 - accuracy: 0.9733 - val_loss: 0.5931 - val_accuracy: 0.8742\n",
      "Epoch 64/100\n",
      "125/125 [==============================] - 2s 14ms/step - loss: 0.0823 - accuracy: 0.9740 - val_loss: 0.5954 - val_accuracy: 0.8749\n",
      "Epoch 65/100\n",
      "125/125 [==============================] - 1s 12ms/step - loss: 0.0805 - accuracy: 0.9744 - val_loss: 0.6020 - val_accuracy: 0.8743\n",
      "Epoch 66/100\n",
      "125/125 [==============================] - 2s 12ms/step - loss: 0.0788 - accuracy: 0.9749 - val_loss: 0.6098 - val_accuracy: 0.8737\n",
      "Epoch 67/100\n",
      "125/125 [==============================] - 1s 12ms/step - loss: 0.0769 - accuracy: 0.9755 - val_loss: 0.6144 - val_accuracy: 0.8741\n",
      "Epoch 68/100\n",
      "125/125 [==============================] - 2s 12ms/step - loss: 0.0754 - accuracy: 0.9758 - val_loss: 0.6157 - val_accuracy: 0.8742\n",
      "Epoch 69/100\n",
      "125/125 [==============================] - 1s 12ms/step - loss: 0.0739 - accuracy: 0.9762 - val_loss: 0.6235 - val_accuracy: 0.8734\n",
      "Epoch 70/100\n",
      "125/125 [==============================] - 1s 12ms/step - loss: 0.0717 - accuracy: 0.9766 - val_loss: 0.6246 - val_accuracy: 0.8744\n",
      "Epoch 71/100\n",
      "125/125 [==============================] - 2s 14ms/step - loss: 0.0706 - accuracy: 0.9771 - val_loss: 0.6323 - val_accuracy: 0.8739\n",
      "Epoch 72/100\n",
      "125/125 [==============================] - 2s 13ms/step - loss: 0.0689 - accuracy: 0.9774 - val_loss: 0.6346 - val_accuracy: 0.8735\n",
      "Epoch 73/100\n",
      "125/125 [==============================] - 1s 12ms/step - loss: 0.0679 - accuracy: 0.9779 - val_loss: 0.6344 - val_accuracy: 0.8725\n",
      "Epoch 74/100\n",
      "125/125 [==============================] - 1s 12ms/step - loss: 0.0663 - accuracy: 0.9781 - val_loss: 0.6436 - val_accuracy: 0.8738\n",
      "Epoch 75/100\n",
      "125/125 [==============================] - 1s 12ms/step - loss: 0.0648 - accuracy: 0.9789 - val_loss: 0.6414 - val_accuracy: 0.8738\n",
      "Epoch 76/100\n",
      "125/125 [==============================] - 2s 15ms/step - loss: 0.0635 - accuracy: 0.9791 - val_loss: 0.6513 - val_accuracy: 0.8732\n",
      "Epoch 77/100\n",
      "125/125 [==============================] - 2s 14ms/step - loss: 0.0625 - accuracy: 0.9792 - val_loss: 0.6540 - val_accuracy: 0.8737\n",
      "Epoch 78/100\n",
      "125/125 [==============================] - 2s 14ms/step - loss: 0.0610 - accuracy: 0.9797 - val_loss: 0.6551 - val_accuracy: 0.8736\n",
      "Epoch 79/100\n",
      "125/125 [==============================] - 2s 12ms/step - loss: 0.0601 - accuracy: 0.9799 - val_loss: 0.6681 - val_accuracy: 0.8726\n",
      "Epoch 80/100\n",
      "125/125 [==============================] - 1s 12ms/step - loss: 0.0588 - accuracy: 0.9805 - val_loss: 0.6656 - val_accuracy: 0.8731\n",
      "Epoch 81/100\n",
      "125/125 [==============================] - 2s 12ms/step - loss: 0.0579 - accuracy: 0.9809 - val_loss: 0.6715 - val_accuracy: 0.8726\n",
      "Epoch 82/100\n",
      "125/125 [==============================] - 2s 12ms/step - loss: 0.0564 - accuracy: 0.9812 - val_loss: 0.6784 - val_accuracy: 0.8722\n",
      "Epoch 83/100\n",
      "125/125 [==============================] - 1s 12ms/step - loss: 0.0555 - accuracy: 0.9814 - val_loss: 0.6802 - val_accuracy: 0.8725\n",
      "Epoch 84/100\n",
      "125/125 [==============================] - 1s 12ms/step - loss: 0.0550 - accuracy: 0.9815 - val_loss: 0.6871 - val_accuracy: 0.8724\n",
      "Epoch 85/100\n",
      "125/125 [==============================] - 2s 14ms/step - loss: 0.0533 - accuracy: 0.9821 - val_loss: 0.6853 - val_accuracy: 0.8724\n",
      "Epoch 86/100\n",
      "125/125 [==============================] - 1s 12ms/step - loss: 0.0527 - accuracy: 0.9820 - val_loss: 0.6877 - val_accuracy: 0.8729\n",
      "Epoch 87/100\n",
      "125/125 [==============================] - 2s 12ms/step - loss: 0.0521 - accuracy: 0.9822 - val_loss: 0.6938 - val_accuracy: 0.8725\n",
      "Epoch 88/100\n",
      "125/125 [==============================] - 2s 12ms/step - loss: 0.0509 - accuracy: 0.9829 - val_loss: 0.6933 - val_accuracy: 0.8732\n",
      "Epoch 89/100\n",
      "125/125 [==============================] - 2s 12ms/step - loss: 0.0502 - accuracy: 0.9828 - val_loss: 0.7047 - val_accuracy: 0.8728\n",
      "Epoch 90/100\n",
      "125/125 [==============================] - 2s 12ms/step - loss: 0.0493 - accuracy: 0.9832 - val_loss: 0.7012 - val_accuracy: 0.8723\n",
      "Epoch 91/100\n",
      "125/125 [==============================] - 2s 13ms/step - loss: 0.0488 - accuracy: 0.9832 - val_loss: 0.7095 - val_accuracy: 0.8727\n",
      "Epoch 92/100\n",
      "125/125 [==============================] - 2s 14ms/step - loss: 0.0476 - accuracy: 0.9837 - val_loss: 0.7207 - val_accuracy: 0.8717\n",
      "Epoch 93/100\n",
      "125/125 [==============================] - 1s 12ms/step - loss: 0.0470 - accuracy: 0.9838 - val_loss: 0.7224 - val_accuracy: 0.8715\n",
      "Epoch 94/100\n",
      "125/125 [==============================] - 2s 12ms/step - loss: 0.0466 - accuracy: 0.9838 - val_loss: 0.7230 - val_accuracy: 0.8726\n",
      "Epoch 95/100\n",
      "125/125 [==============================] - 2s 12ms/step - loss: 0.0457 - accuracy: 0.9843 - val_loss: 0.7212 - val_accuracy: 0.8726\n",
      "Epoch 96/100\n",
      "125/125 [==============================] - 2s 14ms/step - loss: 0.0450 - accuracy: 0.9843 - val_loss: 0.7282 - val_accuracy: 0.8719\n",
      "Epoch 97/100\n",
      "125/125 [==============================] - 2s 14ms/step - loss: 0.0442 - accuracy: 0.9848 - val_loss: 0.7355 - val_accuracy: 0.8718\n",
      "Epoch 98/100\n",
      "125/125 [==============================] - 2s 12ms/step - loss: 0.0439 - accuracy: 0.9847 - val_loss: 0.7345 - val_accuracy: 0.8718\n",
      "Epoch 99/100\n",
      "125/125 [==============================] - 2s 14ms/step - loss: 0.0436 - accuracy: 0.9846 - val_loss: 0.7375 - val_accuracy: 0.8727\n",
      "Epoch 100/100\n",
      "125/125 [==============================] - 2s 12ms/step - loss: 0.0424 - accuracy: 0.9852 - val_loss: 0.7400 - val_accuracy: 0.8725\n"
     ]
    },
    {
     "data": {
      "text/plain": [
       "<keras.callbacks.History at 0x7f7d440b4b50>"
      ]
     },
     "execution_count": 14,
     "metadata": {},
     "output_type": "execute_result"
    }
   ],
   "source": [
    "model.fit([encoder_input_data, decoder_input_data], decoder_target_data, \n",
    "         batch_size = batch_size,\n",
    "         epochs=epochs,\n",
    "         validation_split=0.2)"
   ]
  },
  {
   "cell_type": "code",
   "execution_count": null,
   "id": "3ac8bfd6",
   "metadata": {
    "papermill": {
     "duration": 0.144745,
     "end_time": "2022-11-22T14:24:00.150765",
     "exception": false,
     "start_time": "2022-11-22T14:24:00.006020",
     "status": "completed"
    },
    "tags": []
   },
   "outputs": [],
   "source": []
  }
 ],
 "metadata": {
  "kernelspec": {
   "display_name": "Python 3",
   "language": "python",
   "name": "python3"
  },
  "language_info": {
   "codemirror_mode": {
    "name": "ipython",
    "version": 3
   },
   "file_extension": ".py",
   "mimetype": "text/x-python",
   "name": "python",
   "nbconvert_exporter": "python",
   "pygments_lexer": "ipython3",
   "version": "3.7.12"
  },
  "papermill": {
   "default_parameters": {},
   "duration": 191.654874,
   "end_time": "2022-11-22T14:24:03.891305",
   "environment_variables": {},
   "exception": null,
   "input_path": "__notebook__.ipynb",
   "output_path": "__notebook__.ipynb",
   "parameters": {},
   "start_time": "2022-11-22T14:20:52.236431",
   "version": "2.3.4"
  }
 },
 "nbformat": 4,
 "nbformat_minor": 5
}
